{
  "nbformat": 4,
  "nbformat_minor": 0,
  "metadata": {
    "colab": {
      "provenance": [],
      "collapsed_sections": [
        "irPI3ggIMNb4",
        "_VZ0BL4vMTZ8"
      ]
    },
    "kernelspec": {
      "name": "python3",
      "display_name": "Python 3"
    },
    "language_info": {
      "name": "python"
    }
  },
  "cells": [
    {
      "cell_type": "code",
      "source": [
        "!pip install gymnasium"
      ],
      "metadata": {
        "colab": {
          "base_uri": "https://localhost:8080/"
        },
        "id": "YczE55EXiYx9",
        "outputId": "a238e67c-8225-4b9d-8bba-5c7a32ea50fb"
      },
      "execution_count": 114,
      "outputs": [
        {
          "output_type": "stream",
          "name": "stdout",
          "text": [
            "Requirement already satisfied: gymnasium in /usr/local/lib/python3.10/dist-packages (0.29.1)\n",
            "Requirement already satisfied: numpy>=1.21.0 in /usr/local/lib/python3.10/dist-packages (from gymnasium) (1.25.2)\n",
            "Requirement already satisfied: cloudpickle>=1.2.0 in /usr/local/lib/python3.10/dist-packages (from gymnasium) (2.2.1)\n",
            "Requirement already satisfied: typing-extensions>=4.3.0 in /usr/local/lib/python3.10/dist-packages (from gymnasium) (4.11.0)\n",
            "Requirement already satisfied: farama-notifications>=0.0.1 in /usr/local/lib/python3.10/dist-packages (from gymnasium) (0.0.4)\n"
          ]
        }
      ]
    },
    {
      "cell_type": "code",
      "metadata": {
        "id": "yhSyhfEy4XSD"
      },
      "source": [
        "import gymnasium as gym\n",
        "import numpy as np\n",
        "import time\n",
        "from IPython import display"
      ],
      "execution_count": 115,
      "outputs": []
    },
    {
      "cell_type": "code",
      "metadata": {
        "id": "kHf1dAVKAcZm"
      },
      "source": [
        "env = gym.make('FrozenLake-v1', render_mode=\"ansi\")"
      ],
      "execution_count": 199,
      "outputs": []
    },
    {
      "cell_type": "code",
      "metadata": {
        "colab": {
          "base_uri": "https://localhost:8080/"
        },
        "id": "5-6usoQHAmqh",
        "outputId": "59af84f1-5015-44e6-870a-5455368ca05b"
      },
      "source": [
        "env.P[0][3] # Transition model"
      ],
      "execution_count": 156,
      "outputs": [
        {
          "output_type": "stream",
          "name": "stderr",
          "text": [
            "/usr/local/lib/python3.10/dist-packages/gymnasium/core.py:311: UserWarning: \u001b[33mWARN: env.P to get variables from other wrappers is deprecated and will be removed in v1.0, to get this variable you can do `env.unwrapped.P` for environment variables or `env.get_wrapper_attr('P')` that will search the reminding wrappers.\u001b[0m\n",
            "  logger.warn(\n"
          ]
        },
        {
          "output_type": "execute_result",
          "data": {
            "text/plain": [
              "[(0.3333333333333333, 1, 0.0, False),\n",
              " (0.3333333333333333, 0, 0.0, False),\n",
              " (0.3333333333333333, 0, 0.0, False)]"
            ]
          },
          "metadata": {},
          "execution_count": 156
        }
      ]
    },
    {
      "cell_type": "code",
      "metadata": {
        "colab": {
          "base_uri": "https://localhost:8080/"
        },
        "id": "wh7Su0h0AqQz",
        "outputId": "f81a3837-ad5d-413d-a7f0-c76acc79cda2"
      },
      "source": [
        "env.observation_space.n"
      ],
      "execution_count": 157,
      "outputs": [
        {
          "output_type": "execute_result",
          "data": {
            "text/plain": [
              "64"
            ]
          },
          "metadata": {},
          "execution_count": 157
        }
      ]
    },
    {
      "cell_type": "code",
      "metadata": {
        "colab": {
          "base_uri": "https://localhost:8080/"
        },
        "id": "qZ68w5bpBScC",
        "outputId": "75ad1d1d-4ec7-4f54-b344-e357fda6e2ef"
      },
      "source": [
        "env.action_space.n"
      ],
      "execution_count": 159,
      "outputs": [
        {
          "output_type": "execute_result",
          "data": {
            "text/plain": [
              "4"
            ]
          },
          "metadata": {},
          "execution_count": 159
        }
      ]
    },
    {
      "cell_type": "code",
      "metadata": {
        "id": "VWLnvY7VBvIZ"
      },
      "source": [
        "def play(env, policy, render=False):\n",
        "    state, _ = env.reset()\n",
        "    total_reward = 0\n",
        "    steps = 0\n",
        "    done = False\n",
        "    while not done:\n",
        "        action = policy[state]\n",
        "        next_state, reward, done, info, _ = env.step(action)\n",
        "        total_reward += reward\n",
        "        steps += 1\n",
        "        if render:\n",
        "            print(env.render())\n",
        "            time.sleep(0.5)\n",
        "            if not done:\n",
        "                display.clear_output(wait=True)\n",
        "        state = next_state\n",
        "\n",
        "    return (total_reward, steps)"
      ],
      "execution_count": 120,
      "outputs": []
    },
    {
      "cell_type": "code",
      "metadata": {
        "colab": {
          "base_uri": "https://localhost:8080/"
        },
        "id": "fcuDDx6rC5YE",
        "outputId": "fb48aeed-262c-4311-e9b5-63abe264c3a2"
      },
      "source": [
        "policy_0 = np.asarray([0, 0, 0, 0, 0, 0, 0, 0, 0, 0, 0, 0, 0, 0, 0, 0])\n",
        "play(env, policy_0)"
      ],
      "execution_count": 121,
      "outputs": [
        {
          "output_type": "execute_result",
          "data": {
            "text/plain": [
              "(0.0, 43)"
            ]
          },
          "metadata": {},
          "execution_count": 121
        }
      ]
    },
    {
      "cell_type": "code",
      "source": [
        "\n",
        "policy_0 = np.asarray([0, 0, 0, 0, 0, 0, 0, 0, 0, 0, 0, 0, 0, 0, 0, 0])\n",
        "play(env, policy_0, True)\n"
      ],
      "metadata": {
        "colab": {
          "base_uri": "https://localhost:8080/"
        },
        "id": "BJ1CJNPhDGPA",
        "outputId": "73c73498-f730-4698-997c-ab3b421845b5"
      },
      "execution_count": 122,
      "outputs": [
        {
          "output_type": "stream",
          "name": "stdout",
          "text": [
            "  (Left)\n",
            "SFFF\n",
            "FHFH\n",
            "FFFH\n",
            "\u001b[41mH\u001b[0mFFG\n",
            "\n"
          ]
        },
        {
          "output_type": "execute_result",
          "data": {
            "text/plain": [
              "(0.0, 7)"
            ]
          },
          "metadata": {},
          "execution_count": 122
        }
      ]
    },
    {
      "cell_type": "code",
      "metadata": {
        "colab": {
          "base_uri": "https://localhost:8080/"
        },
        "id": "tdyjjtGZC9NX",
        "outputId": "83b0647f-5e55-40f5-9657-96a55374b097"
      },
      "source": [
        "policy_1 = np.asarray([0, 1, 1, 3, 1, 0, 2, 0, 1, 1, 2, 2, 3, 3, 1, 0])\n",
        "play(env, policy_1, True)"
      ],
      "execution_count": 123,
      "outputs": [
        {
          "output_type": "stream",
          "name": "stdout",
          "text": [
            "  (Right)\n",
            "SFFF\n",
            "FHFH\n",
            "FFF\u001b[41mH\u001b[0m\n",
            "HFFG\n",
            "\n"
          ]
        },
        {
          "output_type": "execute_result",
          "data": {
            "text/plain": [
              "(0.0, 9)"
            ]
          },
          "metadata": {},
          "execution_count": 123
        }
      ]
    },
    {
      "cell_type": "code",
      "metadata": {
        "colab": {
          "base_uri": "https://localhost:8080/"
        },
        "id": "tt0VhyMuDasc",
        "outputId": "d82cc30d-bb58-4336-8b24-b68b1a4057d5"
      },
      "source": [
        "policy_2 = np.array([1, 1, 1, 3, 0, 1, 2, 3, 1, 1, 2, 3, 2, 2, 1, 3])\n",
        "play(env, policy_2, True)"
      ],
      "execution_count": 124,
      "outputs": [
        {
          "output_type": "stream",
          "name": "stdout",
          "text": [
            "  (Right)\n",
            "SFFF\n",
            "FHF\u001b[41mH\u001b[0m\n",
            "FFFH\n",
            "HFFG\n",
            "\n"
          ]
        },
        {
          "output_type": "execute_result",
          "data": {
            "text/plain": [
              "(0.0, 11)"
            ]
          },
          "metadata": {},
          "execution_count": 124
        }
      ]
    },
    {
      "cell_type": "code",
      "metadata": {
        "colab": {
          "base_uri": "https://localhost:8080/"
        },
        "id": "Hp6qhRFJDxWR",
        "outputId": "54f18ea8-6433-44dd-cff1-296603f0465f"
      },
      "source": [
        "policy_3 = np.array([0, 3, 0, 3, 0, 0, 0, 0, 3, 1, 0, 0, 0, 2, 1, 0])\n",
        "play(env, policy_3, True)"
      ],
      "execution_count": 125,
      "outputs": [
        {
          "output_type": "stream",
          "name": "stdout",
          "text": [
            "  (Left)\n",
            "SFFF\n",
            "F\u001b[41mH\u001b[0mFH\n",
            "FFFH\n",
            "HFFG\n",
            "\n"
          ]
        },
        {
          "output_type": "execute_result",
          "data": {
            "text/plain": [
              "(0.0, 29)"
            ]
          },
          "metadata": {},
          "execution_count": 125
        }
      ]
    },
    {
      "cell_type": "code",
      "metadata": {
        "id": "JU8Q1qMxD6Po"
      },
      "source": [
        "def play_multiple_times(env, policy, max_episodes):\n",
        "    success = 0\n",
        "    list_of_steps = []\n",
        "    for i in range(max_episodes):\n",
        "        total_reward, steps = play(env, policy)\n",
        "\n",
        "        if total_reward > 0:\n",
        "            success += 1\n",
        "            list_of_steps.append(steps)\n",
        "\n",
        "    print(f'Number of successes: {success}/{max_episodes}')\n",
        "    print(f'Average number of steps: {np.mean(list_of_steps)}')"
      ],
      "execution_count": 126,
      "outputs": []
    },
    {
      "cell_type": "code",
      "metadata": {
        "colab": {
          "base_uri": "https://localhost:8080/"
        },
        "id": "G427z17PEmjQ",
        "outputId": "ebc8e422-f44d-446a-d355-054880d24adc"
      },
      "source": [
        "policy_0 = np.asarray([0, 0, 0, 0, 0, 0, 0, 0, 0, 0, 0, 0, 0, 0, 0, 0])\n",
        "play_multiple_times(env, policy_0, 1000)"
      ],
      "execution_count": 127,
      "outputs": [
        {
          "output_type": "stream",
          "name": "stdout",
          "text": [
            "Number of successes: 0/1000\n",
            "Average number of steps: nan\n"
          ]
        },
        {
          "output_type": "stream",
          "name": "stderr",
          "text": [
            "/usr/local/lib/python3.10/dist-packages/numpy/core/fromnumeric.py:3504: RuntimeWarning: Mean of empty slice.\n",
            "  return _methods._mean(a, axis=axis, dtype=dtype,\n",
            "/usr/local/lib/python3.10/dist-packages/numpy/core/_methods.py:129: RuntimeWarning: invalid value encountered in scalar divide\n",
            "  ret = ret.dtype.type(ret / rcount)\n"
          ]
        }
      ]
    },
    {
      "cell_type": "code",
      "metadata": {
        "colab": {
          "base_uri": "https://localhost:8080/"
        },
        "id": "H1bkhaFdDmj_",
        "outputId": "2b928f25-4a54-4b93-b73d-419a5bf28a0b"
      },
      "source": [
        "policy_1 = np.asarray([0, 1, 1, 3, 1, 0, 2, 0, 1, 1, 2, 2, 3, 3, 1, 0])\n",
        "play_multiple_times(env, policy_1, 1000)"
      ],
      "execution_count": 128,
      "outputs": [
        {
          "output_type": "stream",
          "name": "stdout",
          "text": [
            "Number of successes: 44/1000\n",
            "Average number of steps: 11.568181818181818\n"
          ]
        }
      ]
    },
    {
      "cell_type": "code",
      "metadata": {
        "colab": {
          "base_uri": "https://localhost:8080/"
        },
        "id": "2ZYhsb_VEtuR",
        "outputId": "15346eb7-51f8-45e1-dc6c-72cd32792df2"
      },
      "source": [
        "policy_2 = np.array([1, 1, 1, 3, 0, 1, 2, 3, 1, 1, 2, 3, 2, 2, 1, 3])\n",
        "play_multiple_times(env, policy_2, 1000)"
      ],
      "execution_count": 129,
      "outputs": [
        {
          "output_type": "stream",
          "name": "stdout",
          "text": [
            "Number of successes: 112/1000\n",
            "Average number of steps: 16.133928571428573\n"
          ]
        }
      ]
    },
    {
      "cell_type": "code",
      "metadata": {
        "colab": {
          "base_uri": "https://localhost:8080/"
        },
        "id": "OvvHdMesEzTH",
        "outputId": "0602c6f9-4499-4d63-d486-a4b102efa126"
      },
      "source": [
        "policy_3 = np.array([0, 3, 0, 3, 0, 0, 0, 0, 3, 1, 0, 0, 0, 2, 1, 0])\n",
        "play_multiple_times(env, policy_3, 1000)"
      ],
      "execution_count": 130,
      "outputs": [
        {
          "output_type": "stream",
          "name": "stdout",
          "text": [
            "Number of successes: 781/1000\n",
            "Average number of steps: 45.27400768245839\n"
          ]
        }
      ]
    },
    {
      "cell_type": "code",
      "metadata": {
        "id": "bSomNpxJE5lP"
      },
      "source": [
        "def policy_evaluation(env, policy, max_iters=500, gamma=0.9):\n",
        "    # Initialize the values of all states to be 0\n",
        "    v_values = np.zeros(env.observation_space.n)\n",
        "\n",
        "    for i in range(max_iters):\n",
        "        prev_v_values = np.copy(v_values)\n",
        "\n",
        "        # Update the value of each state\n",
        "        for state in range(env.observation_space.n):\n",
        "            action = policy[state]\n",
        "\n",
        "            # Compute the q-value of the action\n",
        "            q_value = 0\n",
        "            for prob, next_state, reward, done in env.P[state][action]:\n",
        "                q_value += prob * (reward + gamma * prev_v_values[next_state])\n",
        "\n",
        "            v_values[state] = q_value # update v-value\n",
        "\n",
        "        # Check convergence\n",
        "        if np.all(np.isclose(v_values, prev_v_values)):\n",
        "            print(f'Converged at {i}-th iteration.')\n",
        "            break\n",
        "\n",
        "    return v_values"
      ],
      "execution_count": 131,
      "outputs": []
    },
    {
      "cell_type": "code",
      "metadata": {
        "colab": {
          "base_uri": "https://localhost:8080/"
        },
        "id": "A7IhqEOgGkQX",
        "outputId": "b1c8cad1-fabf-40b8-cd56-775313cdda96"
      },
      "source": [
        "policy_0 = np.asarray([0, 0, 0, 0, 0, 0, 0, 0, 0, 0, 0, 0, 0, 0, 0, 0])\n",
        "v_values_0 = policy_evaluation(env, policy_0)\n",
        "print(v_values_0)"
      ],
      "execution_count": 132,
      "outputs": [
        {
          "output_type": "stream",
          "name": "stdout",
          "text": [
            "Converged at 0-th iteration.\n",
            "[0. 0. 0. 0. 0. 0. 0. 0. 0. 0. 0. 0. 0. 0. 0. 0.]\n"
          ]
        }
      ]
    },
    {
      "cell_type": "code",
      "metadata": {
        "colab": {
          "base_uri": "https://localhost:8080/"
        },
        "id": "zMjJKI3GGrsN",
        "outputId": "8264ede8-999d-4c59-afed-d8ac7a246bbc"
      },
      "source": [
        "policy_1 = np.asarray([0, 1, 1, 3, 1, 0, 2, 0, 1, 1, 2, 2, 3, 3, 1, 0])\n",
        "v_values_1 = policy_evaluation(env, policy_1)\n",
        "print(v_values_1)"
      ],
      "execution_count": 133,
      "outputs": [
        {
          "output_type": "stream",
          "name": "stdout",
          "text": [
            "Converged at 48-th iteration.\n",
            "[0.01904157 0.01519815 0.03161906 0.02371389 0.02538879 0.\n",
            " 0.06648515 0.         0.05924054 0.13822794 0.18999823 0.\n",
            " 0.         0.21152109 0.56684236 0.        ]\n"
          ]
        }
      ]
    },
    {
      "cell_type": "code",
      "metadata": {
        "colab": {
          "base_uri": "https://localhost:8080/"
        },
        "id": "H-26M77nEfcV",
        "outputId": "a569644f-be32-43a3-bbef-39076efa21cc"
      },
      "source": [
        "np.all(v_values_1 >= v_values_0)"
      ],
      "execution_count": 134,
      "outputs": [
        {
          "output_type": "execute_result",
          "data": {
            "text/plain": [
              "True"
            ]
          },
          "metadata": {},
          "execution_count": 134
        }
      ]
    },
    {
      "cell_type": "code",
      "metadata": {
        "colab": {
          "base_uri": "https://localhost:8080/"
        },
        "id": "l49O1N8QG0S2",
        "outputId": "d102292a-05e5-40d3-fcfa-4fc61c053db0"
      },
      "source": [
        "policy_2 = np.array([1, 1, 1, 3, 0, 1, 2, 3, 1, 1, 2, 3, 2, 2, 1, 3])\n",
        "v_values_2 = policy_evaluation(env, policy_2)\n",
        "print(v_values_2)"
      ],
      "execution_count": 135,
      "outputs": [
        {
          "output_type": "stream",
          "name": "stdout",
          "text": [
            "Converged at 53-th iteration.\n",
            "[0.02889625 0.01951972 0.03616977 0.0271268  0.04790519 0.\n",
            " 0.07391985 0.         0.08288277 0.19339319 0.21022995 0.\n",
            " 0.         0.35153135 0.62684674 0.        ]\n"
          ]
        }
      ]
    },
    {
      "cell_type": "code",
      "metadata": {
        "colab": {
          "base_uri": "https://localhost:8080/"
        },
        "id": "22pRvreGE3Yt",
        "outputId": "c3b44e8a-46ba-46b6-9710-c915771bb75a"
      },
      "source": [
        "np.all(v_values_2 >= v_values_1)"
      ],
      "execution_count": 136,
      "outputs": [
        {
          "output_type": "execute_result",
          "data": {
            "text/plain": [
              "True"
            ]
          },
          "metadata": {},
          "execution_count": 136
        }
      ]
    },
    {
      "cell_type": "code",
      "metadata": {
        "colab": {
          "base_uri": "https://localhost:8080/"
        },
        "id": "BTYYFq6BEXDd",
        "outputId": "94880167-243b-4646-a4f3-33006eeb5512"
      },
      "source": [
        "policy_3 = np.array([0, 3, 0, 3, 0, 0, 0, 0, 3, 1, 0, 0, 0, 2, 1, 0])\n",
        "v_values_3 = policy_evaluation(env, policy_3)\n",
        "print(v_values_3)"
      ],
      "execution_count": 137,
      "outputs": [
        {
          "output_type": "stream",
          "name": "stdout",
          "text": [
            "Converged at 80-th iteration.\n",
            "[0.06888666 0.06141097 0.07440714 0.05580443 0.09185068 0.\n",
            " 0.11220679 0.         0.14543323 0.24749485 0.29961611 0.\n",
            " 0.         0.37993438 0.63901935 0.        ]\n"
          ]
        }
      ]
    },
    {
      "cell_type": "code",
      "metadata": {
        "colab": {
          "base_uri": "https://localhost:8080/"
        },
        "id": "zcEfU3NYE7xN",
        "outputId": "18067661-5a38-4d4d-8c79-34474d51a578"
      },
      "source": [
        "np.all(v_values_3 >= v_values_2)"
      ],
      "execution_count": 138,
      "outputs": [
        {
          "output_type": "execute_result",
          "data": {
            "text/plain": [
              "True"
            ]
          },
          "metadata": {},
          "execution_count": 138
        }
      ]
    },
    {
      "cell_type": "code",
      "metadata": {
        "id": "uh4akjMSHJBF"
      },
      "source": [
        "def value_iteration(env, max_iters=500, gamma=0.9):\n",
        "    # initialize\n",
        "    v_values = np.zeros(env.observation_space.n)\n",
        "\n",
        "    start_time = time.time()\n",
        "    for i in range(max_iters):\n",
        "        prev_v_values = np.copy(v_values)\n",
        "\n",
        "        # update the v-value for each state\n",
        "        for state in range(env.observation_space.n):\n",
        "            q_values = []\n",
        "\n",
        "            # compute the q-value for each action that we can perform at the state\n",
        "            for action in range(env.action_space.n):\n",
        "                q_value = 0\n",
        "                # loop through each possible outcome\n",
        "                for prob, next_state, reward, done in env.P[state][action]:\n",
        "                    q_value += prob * (reward + gamma * prev_v_values[next_state])\n",
        "\n",
        "                q_values.append(q_value)\n",
        "\n",
        "            # select the max q-values\n",
        "            best_action = np.argmax(q_values)\n",
        "            v_values[state] = q_values[best_action]\n",
        "\n",
        "        # check convergence\n",
        "        if np.all(np.isclose(v_values, prev_v_values)):\n",
        "            print(f'Converged at {i}-th iteration.')\n",
        "            break\n",
        "\n",
        "    end_time = time.time()\n",
        "    print(\"Value Iteration run time: %.2f\" % (end_time - start_time))\n",
        "    return v_values"
      ],
      "execution_count": 184,
      "outputs": []
    },
    {
      "cell_type": "code",
      "metadata": {
        "id": "jb0an7gaV39e"
      },
      "source": [
        "def policy_extraction(env, v_values, gamma=0.9):\n",
        "    # initialize\n",
        "    policy = np.zeros(env.observation_space.n, dtype=np.int32)\n",
        "\n",
        "    start_time = time.time()\n",
        "    # loop through each state in the environment\n",
        "    for state in range(env.observation_space.n):\n",
        "        q_values = []\n",
        "        # loop through each action\n",
        "        for action in range(env.action_space.n):\n",
        "            q_value = 0\n",
        "            # loop each possible outcome\n",
        "            for prob, next_state, reward, done in env.P[state][action]:\n",
        "                q_value += prob * (reward + gamma * v_values[next_state])\n",
        "\n",
        "            q_values.append(q_value)\n",
        "\n",
        "        # select the best action\n",
        "        best_action = np.argmax(q_values)\n",
        "        policy[state] = best_action\n",
        "    end_time = time.time()\n",
        "    print(\"Policy Extraction run time: %.2f\" % (end_time - start_time))\n",
        "    return policy"
      ],
      "execution_count": 241,
      "outputs": []
    },
    {
      "cell_type": "code",
      "source": [
        "def policy_iteration(env, max_iters=100, gamma=0.9):\n",
        "\n",
        "    # Initialize a random policy (e.g., uniform random or deterministic)\n",
        "    policy = np.full((env.observation_space.n, env.action_space.n), 1 / env.action_space.n)\n",
        "    v_values = np.zeros(env.observation_space.n)\n",
        "\n",
        "    start_time = time.time()\n",
        "    for i in range(max_iters):\n",
        "        # Policy evaluation\n",
        "        while True:\n",
        "            prev_v_values = np.copy(v_values)\n",
        "\n",
        "            for state in range(env.observation_space.n):\n",
        "                v_prev = v_values[state]\n",
        "                q_values = []\n",
        "\n",
        "                for action in range(env.action_space.n):\n",
        "                    q_value = 0\n",
        "                    for prob, next_state, reward, _ in env.P[state][action]:\n",
        "                        q_value += prob * (reward + gamma * v_values[next_state])\n",
        "\n",
        "                    q_values.append(policy[state][action] * q_value)\n",
        "\n",
        "                v_values[state] = sum(q_values)\n",
        "\n",
        "            # check convergence\n",
        "            if np.all(np.isclose(v_values, prev_v_values)):\n",
        "                # print(f'Converged at {i}-th iteration.')\n",
        "                break\n",
        "\n",
        "        # Policy improvement\n",
        "        new_policy = np.zeros((env.observation_space.n, env.action_space.n))\n",
        "\n",
        "        for state in range(env.observation_space.n):\n",
        "            q_values = []\n",
        "\n",
        "            for action in range(env.action_space.n):\n",
        "                q_value = 0\n",
        "                for prob, next_state, reward, _ in env.P[state][action]:\n",
        "                    q_value += prob * (reward + gamma * v_values[next_state])\n",
        "\n",
        "                q_values.append(q_value)\n",
        "\n",
        "            # select the max q-values\n",
        "            best_action = np.argmax(q_values)\n",
        "            new_policy[state][best_action] = 1\n",
        "\n",
        "        if np.all(policy == new_policy):\n",
        "            print(f'Converged at {i}-th iteration.')\n",
        "            break\n",
        "\n",
        "        policy = new_policy\n",
        "\n",
        "    result = np.zeros(env.observation_space.n, dtype=np.int32)\n",
        "    for i in range(env.observation_space.n):\n",
        "        for j in range(env.action_space.n):\n",
        "            if policy[i][j] == 1:\n",
        "              result[i] = j\n",
        "\n",
        "    end_time = time.time()\n",
        "    print(\"Policy Iteration run time: %.2f\" % (end_time - start_time))\n",
        "    return v_values, result\n"
      ],
      "metadata": {
        "id": "AzsFaKgnzV8a"
      },
      "execution_count": 183,
      "outputs": []
    },
    {
      "cell_type": "markdown",
      "source": [
        "# **Games to run**"
      ],
      "metadata": {
        "id": "0NCIG1EEUmYm"
      }
    },
    {
      "cell_type": "code",
      "source": [
        "env = gym.make('FrozenLake8x8-v1', render_mode=\"ansi\")"
      ],
      "metadata": {
        "id": "M-vYzdtgPGGI"
      },
      "execution_count": 258,
      "outputs": []
    },
    {
      "cell_type": "code",
      "source": [
        "env = gym.make('Taxi-v3', render_mode=\"ansi\")"
      ],
      "metadata": {
        "id": "TIqxGPpoPF1B"
      },
      "execution_count": 266,
      "outputs": []
    },
    {
      "cell_type": "code",
      "metadata": {
        "id": "d7LHHnGFUjtq"
      },
      "source": [
        "env = gym.make('FrozenLake-v1', render_mode=\"ansi\")"
      ],
      "execution_count": 250,
      "outputs": []
    },
    {
      "cell_type": "markdown",
      "source": [
        "# **Running value iteration**"
      ],
      "metadata": {
        "id": "irPI3ggIMNb4"
      }
    },
    {
      "cell_type": "code",
      "metadata": {
        "colab": {
          "base_uri": "https://localhost:8080/"
        },
        "id": "r8xAljw7VuMP",
        "outputId": "84353708-a681-4490-91f5-593ace0dc985"
      },
      "source": [
        "optimal_v_values = value_iteration(env, max_iters=500, gamma=0.9)"
      ],
      "execution_count": 267,
      "outputs": [
        {
          "output_type": "stream",
          "name": "stdout",
          "text": [
            "Converged at 116-th iteration.\n",
            "Value Iteration run time: 6.71\n"
          ]
        }
      ]
    },
    {
      "cell_type": "code",
      "metadata": {
        "id": "7TGCF4G7XErH",
        "colab": {
          "base_uri": "https://localhost:8080/"
        },
        "outputId": "752d8fe8-eadc-4ff7-d193-0ec667951524"
      },
      "source": [
        "optimal_policy = policy_extraction(env, optimal_v_values, gamma=0.9)"
      ],
      "execution_count": 268,
      "outputs": [
        {
          "output_type": "stream",
          "name": "stdout",
          "text": [
            "Policy Extraction run time: 0.06\n"
          ]
        }
      ]
    },
    {
      "cell_type": "code",
      "source": [
        "optimal_policy"
      ],
      "metadata": {
        "colab": {
          "base_uri": "https://localhost:8080/"
        },
        "id": "cvVSO42RAc3j",
        "outputId": "b33f47aa-338d-4009-c0c1-b40aa8d560d4"
      },
      "execution_count": 269,
      "outputs": [
        {
          "output_type": "execute_result",
          "data": {
            "text/plain": [
              "array([4, 4, 4, 4, 0, 0, 0, 0, 0, 0, 0, 0, 0, 0, 0, 0, 5, 0, 0, 0, 3, 3,\n",
              "       3, 3, 0, 0, 0, 0, 0, 0, 0, 0, 0, 0, 0, 0, 3, 0, 0, 0, 0, 0, 0, 0,\n",
              "       2, 2, 2, 2, 0, 0, 0, 0, 0, 0, 0, 0, 0, 2, 0, 0, 0, 0, 0, 0, 2, 2,\n",
              "       2, 2, 0, 0, 0, 0, 0, 0, 0, 0, 0, 2, 0, 0, 0, 0, 0, 0, 4, 4, 4, 4,\n",
              "       0, 0, 0, 0, 0, 0, 0, 0, 0, 5, 0, 0, 1, 1, 1, 1, 0, 0, 0, 0, 0, 0,\n",
              "       0, 0, 0, 0, 0, 0, 1, 0, 0, 0, 1, 1, 1, 1, 0, 0, 0, 0, 0, 0, 0, 0,\n",
              "       0, 0, 0, 0, 1, 0, 0, 0, 0, 0, 0, 0, 1, 1, 1, 1, 0, 0, 0, 0, 0, 0,\n",
              "       0, 0, 0, 1, 0, 0, 0, 0, 0, 0, 1, 1, 1, 1, 0, 0, 0, 0, 0, 0, 0, 0,\n",
              "       0, 1, 0, 0, 0, 0, 0, 0, 1, 1, 1, 1, 0, 0, 0, 0, 0, 0, 0, 0, 0, 1,\n",
              "       0, 0, 1, 1, 1, 1, 2, 2, 2, 2, 0, 0, 0, 0, 2, 2, 2, 2, 1, 2, 0, 2,\n",
              "       1, 1, 1, 1, 2, 2, 2, 2, 3, 3, 3, 3, 2, 2, 2, 2, 1, 2, 3, 2, 3, 3,\n",
              "       3, 3, 1, 1, 1, 1, 3, 3, 3, 3, 2, 2, 2, 2, 3, 1, 3, 2, 3, 3, 3, 3,\n",
              "       1, 1, 1, 1, 3, 3, 3, 3, 0, 0, 0, 0, 3, 1, 3, 0, 3, 3, 3, 3, 1, 1,\n",
              "       1, 1, 3, 3, 3, 3, 0, 0, 0, 0, 3, 1, 3, 0, 1, 1, 1, 1, 1, 1, 1, 1,\n",
              "       0, 0, 0, 0, 1, 1, 1, 1, 1, 1, 0, 1, 1, 1, 1, 1, 1, 1, 1, 1, 1, 1,\n",
              "       1, 1, 1, 1, 1, 1, 1, 1, 1, 1, 1, 1, 1, 1, 1, 1, 1, 1, 1, 1, 1, 1,\n",
              "       1, 1, 1, 1, 1, 1, 1, 1, 1, 1, 1, 1, 1, 1, 1, 1, 1, 1, 1, 1, 0, 0,\n",
              "       0, 0, 1, 1, 1, 0, 1, 1, 1, 1, 1, 1, 1, 1, 1, 1, 1, 1, 0, 0, 0, 0,\n",
              "       1, 1, 1, 0, 1, 1, 1, 1, 1, 1, 1, 1, 4, 4, 4, 4, 1, 1, 1, 1, 1, 1,\n",
              "       5, 1, 1, 1, 1, 1, 1, 1, 1, 1, 1, 1, 1, 1, 1, 1, 1, 1, 1, 1, 1, 1,\n",
              "       1, 1, 1, 1, 1, 1, 1, 1, 1, 1, 1, 1, 1, 1, 1, 1, 1, 1, 1, 1, 1, 1,\n",
              "       1, 1, 1, 1, 1, 1, 1, 1, 1, 1, 4, 4, 4, 4, 1, 1, 1, 5, 1, 1, 1, 1,\n",
              "       1, 1, 1, 1, 1, 1, 1, 1, 3, 3, 3, 3, 1, 1, 1, 3], dtype=int32)"
            ]
          },
          "metadata": {},
          "execution_count": 269
        }
      ]
    },
    {
      "cell_type": "code",
      "source": [
        "optimal_v_values"
      ],
      "metadata": {
        "colab": {
          "base_uri": "https://localhost:8080/"
        },
        "id": "vHL1pW-0AiEZ",
        "outputId": "d533ef52-de1f-439c-9c81-3d825bfbb4f2"
      },
      "execution_count": 270,
      "outputs": [
        {
          "output_type": "execute_result",
          "data": {
            "text/plain": [
              "array([ 89.47323891,  32.81971401,  55.26423891,  37.57755845,\n",
              "         8.43222921,  32.81971401,   8.43222921,  15.28447953,\n",
              "        32.81971401,  18.09386122,  55.26423891,  21.2154998 ,\n",
              "        12.75594298,  18.09386122,  12.75594298,  37.57755845,\n",
              "       100.52591945,  37.57755845,  62.51591945,  42.86394891,\n",
              "        79.52591945,  28.53774704,  48.73781945,  32.81971401,\n",
              "        10.48035311,  37.57755845,  10.48035311,  18.09386122,\n",
              "        28.53774704,  15.28447953,  48.73781945,  18.09386122,\n",
              "        15.28447953,  21.2154998 ,  15.28447953,  42.86394891,\n",
              "        89.47323891,  42.86394891,  55.26423891,  48.73781945,\n",
              "        42.86394891,  12.75594298,  24.68388374,  15.28447953,\n",
              "        24.68388374,  70.57323891,  24.68388374,  37.57755845,\n",
              "        24.68388374,  12.75594298,  42.86394891,  15.28447953,\n",
              "        18.09386122,  24.68388374,  18.09386122,  48.73781945,\n",
              "        48.73781945,  79.52591945,  48.73781945,  55.26423891,\n",
              "        37.57755845,  10.48035311,  21.2154998 ,  12.75594298,\n",
              "        28.53774704,  79.52591945,  28.53774704,  42.86394891,\n",
              "        21.2154998 ,  10.48035311,  37.57755845,  12.75594298,\n",
              "        21.2154998 ,  28.53774704,  21.2154998 ,  55.26423891,\n",
              "        42.86394891,  89.47323891,  42.86394891,  62.51591945,\n",
              "        32.81971401,   8.43222921,  18.09386122,  10.48035311,\n",
              "        32.81971401,  89.47323891,  32.81971401,  48.73781945,\n",
              "        18.09386122,   8.43222921,  32.81971401,  10.48035311,\n",
              "        18.09386122,  24.68388374,  18.09386122,  48.73781945,\n",
              "        37.57755845, 100.52591945,  37.57755845,  55.26423891,\n",
              "        79.52591945,  28.53774704,  48.73781945,  32.81971401,\n",
              "        10.48035311,  37.57755845,  10.48035311,  18.09386122,\n",
              "        37.57755845,  21.2154998 ,  62.51591945,  24.68388374,\n",
              "        15.28447953,  21.2154998 ,  15.28447953,  42.86394891,\n",
              "        89.47323891,  42.86394891,  70.57323891,  48.73781945,\n",
              "        70.57323891,  24.68388374,  42.86394891,  28.53774704,\n",
              "        12.75594298,  42.86394891,  12.75594298,  21.2154998 ,\n",
              "        32.81971401,  18.09386122,  55.26423891,  21.2154998 ,\n",
              "        18.09386122,  24.68388374,  18.09386122,  48.73781945,\n",
              "        79.52591945,  48.73781945,  62.51591945,  55.26423891,\n",
              "        48.73781945,  15.28447953,  28.53774704,  18.09386122,\n",
              "        21.2154998 ,  62.51591945,  21.2154998 ,  32.81971401,\n",
              "        28.53774704,  15.28447953,  48.73781945,  18.09386122,\n",
              "        21.2154998 ,  28.53774704,  21.2154998 ,  55.26423891,\n",
              "        55.26423891,  70.57323891,  55.26423891,  62.51591945,\n",
              "        42.86394891,  12.75594298,  24.68388374,  15.28447953,\n",
              "        24.68388374,  70.57323891,  24.68388374,  37.57755845,\n",
              "        24.68388374,  12.75594298,  42.86394891,  15.28447953,\n",
              "        24.68388374,  32.81971401,  24.68388374,  62.51591945,\n",
              "        48.73781945,  79.52591945,  48.73781945,  70.57323891,\n",
              "        37.57755845,  10.48035311,  21.2154998 ,  12.75594298,\n",
              "        28.53774704,  79.52591945,  28.53774704,  42.86394891,\n",
              "        21.2154998 ,  10.48035311,  37.57755845,  12.75594298,\n",
              "        21.2154998 ,  28.53774704,  21.2154998 ,  55.26423891,\n",
              "        42.86394891,  89.47323891,  42.86394891,  62.51591945,\n",
              "        70.57323891,  24.68388374,  42.86394891,  28.53774704,\n",
              "        12.75594298,  42.86394891,  12.75594298,  21.2154998 ,\n",
              "        42.86394891,  24.68388374,  70.57323891,  28.53774704,\n",
              "        18.09386122,  24.68388374,  18.09386122,  48.73781945,\n",
              "        79.52591945,  48.73781945,  79.52591945,  55.26423891,\n",
              "        62.51591945,  21.2154998 ,  37.57755845,  24.68388374,\n",
              "        15.28447953,  48.73781945,  15.28447953,  24.68388374,\n",
              "        37.57755845,  21.2154998 ,  62.51591945,  24.68388374,\n",
              "        21.2154998 ,  28.53774704,  21.2154998 ,  55.26423891,\n",
              "        70.57323891,  55.26423891,  70.57323891,  62.51591945,\n",
              "        55.26423891,  18.09386122,  32.81971401,  21.2154998 ,\n",
              "        18.09386122,  55.26423891,  18.09386122,  28.53774704,\n",
              "        32.81971401,  18.09386122,  55.26423891,  21.2154998 ,\n",
              "        24.68388374,  32.81971401,  24.68388374,  62.51591945,\n",
              "        62.51591945,  62.51591945,  62.51591945,  70.57323891,\n",
              "        48.73781945,  15.28447953,  28.53774704,  18.09386122,\n",
              "        21.2154998 ,  62.51591945,  21.2154998 ,  32.81971401,\n",
              "        28.53774704,  15.28447953,  48.73781945,  18.09386122,\n",
              "        28.53774704,  37.57755845,  28.53774704,  70.57323891,\n",
              "        55.26423891,  70.57323891,  55.26423891,  79.52591945,\n",
              "        42.86394891,  12.75594298,  24.68388374,  15.28447953,\n",
              "        24.68388374,  70.57323891,  24.68388374,  37.57755845,\n",
              "        24.68388374,  12.75594298,  42.86394891,  15.28447953,\n",
              "        24.68388374,  32.81971401,  24.68388374,  62.51591945,\n",
              "        48.73781945,  79.52591945,  48.73781945,  70.57323891,\n",
              "        62.51591945,  21.2154998 ,  37.57755845,  24.68388374,\n",
              "        10.48035311,  37.57755845,  10.48035311,  18.09386122,\n",
              "        48.73781945,  28.53774704,  79.52591945,  32.81971401,\n",
              "        15.28447953,  21.2154998 ,  15.28447953,  42.86394891,\n",
              "        70.57323891,  42.86394891,  89.47323891,  48.73781945,\n",
              "        55.26423891,  18.09386122,  32.81971401,  21.2154998 ,\n",
              "        12.75594298,  42.86394891,  12.75594298,  21.2154998 ,\n",
              "        32.81971401,  18.09386122,  55.26423891,  21.2154998 ,\n",
              "        18.09386122,  24.68388374,  18.09386122,  48.73781945,\n",
              "        62.51591945,  48.73781945,  62.51591945,  55.26423891,\n",
              "        48.73781945,  15.28447953,  28.53774704,  18.09386122,\n",
              "        15.28447953,  48.73781945,  15.28447953,  24.68388374,\n",
              "        28.53774704,  15.28447953,  48.73781945,  18.09386122,\n",
              "        21.2154998 ,  28.53774704,  21.2154998 ,  55.26423891,\n",
              "        55.26423891,  55.26423891,  55.26423891,  62.51591945,\n",
              "        42.86394891,  12.75594298,  24.68388374,  15.28447953,\n",
              "        18.09386122,  55.26423891,  18.09386122,  28.53774704,\n",
              "        24.68388374,  12.75594298,  42.86394891,  15.28447953,\n",
              "        32.81971401,  42.86394891,  32.81971401,  79.52591945,\n",
              "        48.73781945,  62.51591945,  48.73781945,  89.47323891,\n",
              "        37.57755845,  10.48035311,  21.2154998 ,  12.75594298,\n",
              "        21.2154998 ,  62.51591945,  21.2154998 ,  32.81971401,\n",
              "        21.2154998 ,  10.48035311,  37.57755845,  12.75594298,\n",
              "        28.53774704,  37.57755845,  28.53774704,  70.57323891,\n",
              "        42.86394891,  70.57323891,  42.86394891,  79.52591945,\n",
              "        55.26423891,  18.09386122,  32.81971401,  21.2154998 ,\n",
              "         8.43222921,  32.81971401,   8.43222921,  15.28447953,\n",
              "        55.26423891,  32.81971401,  89.47323891,  37.57755845,\n",
              "        12.75594298,  18.09386122,  12.75594298,  37.57755845,\n",
              "        62.51591945,  37.57755845, 100.52591945,  42.86394891,\n",
              "        48.73781945,  15.28447953,  28.53774704,  18.09386122,\n",
              "        10.48035311,  37.57755845,  10.48035311,  18.09386122,\n",
              "        28.53774704,  15.28447953,  48.73781945,  18.09386122,\n",
              "        15.28447953,  21.2154998 ,  15.28447953,  42.86394891,\n",
              "        55.26423891,  42.86394891,  55.26423891,  48.73781945,\n",
              "        42.86394891,  12.75594298,  24.68388374,  15.28447953,\n",
              "        12.75594298,  42.86394891,  12.75594298,  21.2154998 ,\n",
              "        24.68388374,  12.75594298,  42.86394891,  15.28447953,\n",
              "        18.09386122,  24.68388374,  18.09386122,  48.73781945,\n",
              "        48.73781945,  48.73781945,  48.73781945,  55.26423891,\n",
              "        37.57755845,  10.48035311,  21.2154998 ,  12.75594298,\n",
              "        15.28447953,  48.73781945,  15.28447953,  24.68388374,\n",
              "        21.2154998 ,  10.48035311,  37.57755845,  12.75594298,\n",
              "        37.57755845,  48.73781945,  37.57755845,  89.47323891,\n",
              "        42.86394891,  55.26423891,  42.86394891, 100.52591945,\n",
              "        32.81971401,   8.43222921,  18.09386122,  10.48035311,\n",
              "        18.09386122,  55.26423891,  18.09386122,  28.53774704,\n",
              "        18.09386122,   8.43222921,  32.81971401,  10.48035311,\n",
              "        32.81971401,  42.86394891,  32.81971401,  79.52591945,\n",
              "        37.57755845,  62.51591945,  37.57755845,  89.47323891])"
            ]
          },
          "metadata": {},
          "execution_count": 270
        }
      ]
    },
    {
      "cell_type": "code",
      "source": [
        "v_values_optimal = policy_evaluation(env, optimal_policy)"
      ],
      "metadata": {
        "id": "YOQ7Hs4DqX2T",
        "colab": {
          "base_uri": "https://localhost:8080/"
        },
        "outputId": "7ceed248-f243-47cd-cb3c-b3e1bc3a2920"
      },
      "execution_count": 271,
      "outputs": [
        {
          "output_type": "stream",
          "name": "stdout",
          "text": [
            "Converged at 116-th iteration.\n"
          ]
        }
      ]
    },
    {
      "cell_type": "code",
      "source": [
        "play(env, optimal_policy, True)"
      ],
      "metadata": {
        "colab": {
          "base_uri": "https://localhost:8080/"
        },
        "id": "1Ww12Uh5qCUb",
        "outputId": "49dbed32-eee5-471d-b68d-ac8735b87bf6"
      },
      "execution_count": 274,
      "outputs": [
        {
          "output_type": "stream",
          "name": "stdout",
          "text": [
            "+---------+\n",
            "|\u001b[35m\u001b[34;1m\u001b[43mR\u001b[0m\u001b[0m\u001b[0m: | : :G|\n",
            "| : | : : |\n",
            "| : : : : |\n",
            "| | : | : |\n",
            "|Y| : |B: |\n",
            "+---------+\n",
            "  (Dropoff)\n",
            "\n"
          ]
        },
        {
          "output_type": "execute_result",
          "data": {
            "text/plain": [
              "(9, 12)"
            ]
          },
          "metadata": {},
          "execution_count": 274
        }
      ]
    },
    {
      "cell_type": "code",
      "metadata": {
        "colab": {
          "base_uri": "https://localhost:8080/"
        },
        "id": "5-m4ZqWZXKqG",
        "outputId": "94a6c7d5-7c4d-4c38-c44b-e5324f29fdbc"
      },
      "source": [
        "play_multiple_times(env, optimal_policy, 1000)"
      ],
      "execution_count": 273,
      "outputs": [
        {
          "output_type": "stream",
          "name": "stdout",
          "text": [
            "Number of successes: 1000/1000\n",
            "Average number of steps: 13.086\n"
          ]
        }
      ]
    },
    {
      "cell_type": "markdown",
      "source": [
        "# **Running policy iteration**"
      ],
      "metadata": {
        "id": "_VZ0BL4vMTZ8"
      }
    },
    {
      "cell_type": "code",
      "source": [
        "optimal_v_values2, optimal_policy2 = policy_iteration(env, max_iters=500, gamma=0.9)"
      ],
      "metadata": {
        "colab": {
          "base_uri": "https://localhost:8080/"
        },
        "id": "Kd7ba7hYSB-P",
        "outputId": "c4dc9407-4ebe-459a-cb4f-1c538cbdd359"
      },
      "execution_count": 235,
      "outputs": [
        {
          "output_type": "stream",
          "name": "stdout",
          "text": [
            "Converged at 12-th iteration.\n",
            "Policy Iteration run time: 8.29\n"
          ]
        }
      ]
    },
    {
      "cell_type": "code",
      "source": [
        "optimal_policy2"
      ],
      "metadata": {
        "colab": {
          "base_uri": "https://localhost:8080/"
        },
        "id": "eRzI4BnwKznc",
        "outputId": "63b557de-ccc6-42ed-ead2-4023f3aaadde"
      },
      "execution_count": 236,
      "outputs": [
        {
          "output_type": "execute_result",
          "data": {
            "text/plain": [
              "array([4, 4, 4, 4, 0, 0, 0, 0, 0, 0, 0, 0, 0, 0, 0, 0, 5, 0, 0, 0, 3, 3,\n",
              "       3, 3, 0, 0, 0, 0, 0, 0, 0, 0, 0, 0, 0, 0, 3, 0, 0, 0, 0, 0, 0, 0,\n",
              "       2, 2, 2, 2, 0, 0, 0, 0, 0, 0, 0, 0, 0, 2, 0, 0, 0, 0, 0, 0, 2, 2,\n",
              "       2, 2, 0, 0, 0, 0, 0, 0, 0, 0, 0, 2, 0, 0, 0, 0, 0, 0, 4, 4, 4, 4,\n",
              "       0, 0, 0, 0, 0, 0, 0, 0, 0, 5, 0, 0, 1, 1, 1, 1, 0, 0, 0, 0, 0, 0,\n",
              "       0, 0, 0, 0, 0, 0, 1, 0, 0, 0, 1, 1, 1, 1, 0, 0, 0, 0, 0, 0, 0, 0,\n",
              "       0, 0, 0, 0, 1, 0, 0, 0, 0, 0, 0, 0, 2, 2, 2, 2, 0, 0, 0, 0, 0, 0,\n",
              "       0, 0, 0, 2, 0, 0, 0, 0, 0, 0, 2, 2, 2, 2, 0, 0, 0, 0, 0, 0, 0, 0,\n",
              "       0, 2, 0, 0, 0, 0, 0, 0, 1, 1, 1, 1, 0, 0, 0, 0, 0, 0, 0, 0, 0, 1,\n",
              "       0, 0, 1, 1, 1, 1, 2, 2, 2, 2, 0, 0, 0, 0, 2, 2, 2, 2, 1, 2, 0, 2,\n",
              "       1, 1, 1, 1, 2, 2, 2, 2, 3, 3, 3, 3, 2, 2, 2, 2, 1, 2, 3, 2, 3, 3,\n",
              "       3, 3, 2, 2, 2, 2, 3, 3, 3, 3, 2, 2, 2, 2, 3, 2, 3, 2, 3, 3, 3, 3,\n",
              "       2, 2, 2, 2, 3, 3, 3, 3, 0, 0, 0, 0, 3, 2, 3, 0, 3, 3, 3, 3, 1, 1,\n",
              "       1, 1, 3, 3, 3, 3, 0, 0, 0, 0, 3, 1, 3, 0, 1, 1, 1, 1, 1, 1, 1, 1,\n",
              "       0, 0, 0, 0, 1, 1, 1, 1, 1, 1, 0, 1, 1, 1, 1, 1, 2, 2, 2, 2, 1, 1,\n",
              "       1, 1, 2, 2, 2, 2, 1, 2, 1, 2, 1, 1, 1, 1, 1, 1, 1, 1, 1, 1, 1, 1,\n",
              "       1, 1, 1, 1, 1, 1, 1, 1, 1, 1, 1, 1, 2, 2, 2, 2, 1, 1, 1, 1, 0, 0,\n",
              "       0, 0, 1, 2, 1, 0, 1, 1, 1, 1, 1, 1, 1, 1, 1, 1, 1, 1, 0, 0, 0, 0,\n",
              "       1, 1, 1, 0, 1, 1, 1, 1, 1, 1, 1, 1, 4, 4, 4, 4, 1, 1, 1, 1, 1, 1,\n",
              "       5, 1, 1, 1, 1, 1, 2, 2, 2, 2, 1, 1, 1, 1, 2, 2, 2, 2, 1, 2, 1, 2,\n",
              "       1, 1, 1, 1, 1, 1, 1, 1, 1, 1, 1, 1, 1, 1, 1, 1, 1, 1, 1, 1, 1, 1,\n",
              "       1, 1, 2, 2, 2, 2, 1, 1, 1, 1, 4, 4, 4, 4, 1, 2, 1, 5, 1, 1, 1, 1,\n",
              "       1, 1, 1, 1, 1, 1, 1, 1, 3, 3, 3, 3, 1, 1, 1, 3], dtype=int32)"
            ]
          },
          "metadata": {},
          "execution_count": 236
        }
      ]
    },
    {
      "cell_type": "code",
      "source": [
        "optimal_v_values2"
      ],
      "metadata": {
        "colab": {
          "base_uri": "https://localhost:8080/"
        },
        "id": "m2p9xcG4tx4I",
        "outputId": "c8fdd80c-8b24-4acf-d8ea-8e55ceaba581"
      },
      "execution_count": 237,
      "outputs": [
        {
          "output_type": "execute_result",
          "data": {
            "text/plain": [
              "array([ 89.47368421,  32.82015931,  55.26468421,  37.57795479,\n",
              "         8.43267451,  32.82015931,   8.43267451,  15.28487587,\n",
              "        32.82015931,  18.09430652,  55.26468421,  21.21589614,\n",
              "        12.75638828,  18.09430652,  12.75638828,  37.57795479,\n",
              "       100.52631579,  37.57795479,  62.51631579,  42.86439421,\n",
              "        79.52631579,  28.53814338,  48.73821579,  32.82015931,\n",
              "        10.48074946,  37.57795479,  10.48074946,  18.09430652,\n",
              "        28.53814338,  15.28487587,  48.73821579,  18.09430652,\n",
              "        15.28487587,  21.21589614,  15.28487587,  42.86439421,\n",
              "        89.47368421,  42.86439421,  55.26468421,  48.73821579,\n",
              "        42.86439421,  12.75638828,  24.68432904,  15.28487587,\n",
              "        24.68432904,  70.57368421,  24.68432904,  37.57795479,\n",
              "        24.68432904,  12.75638828,  42.86439421,  15.28487587,\n",
              "        18.09430652,  24.68432904,  18.09430652,  48.73821579,\n",
              "        48.73821579,  79.52631579,  48.73821579,  55.26468421,\n",
              "        37.57795479,  10.48074946,  21.21589614,  12.75638828,\n",
              "        28.53814338,  79.52631579,  28.53814338,  42.86439421,\n",
              "        21.21589614,  10.48074946,  37.57795479,  12.75638828,\n",
              "        21.21589614,  28.53814338,  21.21589614,  55.26468421,\n",
              "        42.86439421,  89.47368421,  42.86439421,  62.51631579,\n",
              "        32.82015931,   8.43267451,  18.09430652,  10.48074946,\n",
              "        32.82015931,  89.47368421,  32.82015931,  48.73821579,\n",
              "        18.09430652,   8.43267451,  32.82015931,  10.48074946,\n",
              "        18.09430652,  24.68432904,  18.09430652,  48.73821579,\n",
              "        37.57795479, 100.52631579,  37.57795479,  55.26468421,\n",
              "        79.52631579,  28.53814338,  48.73821579,  32.82015931,\n",
              "        10.48074946,  37.57795479,  10.48074946,  18.09430652,\n",
              "        37.57795479,  21.21589614,  62.51631579,  24.68432904,\n",
              "        15.28487587,  21.21589614,  15.28487587,  42.86439421,\n",
              "        89.47368421,  42.86439421,  70.57368421,  48.73821579,\n",
              "        70.57368421,  24.68432904,  42.86439421,  28.53814338,\n",
              "        12.75638828,  42.86439421,  12.75638828,  21.21589614,\n",
              "        32.82015931,  18.09430652,  55.26468421,  21.21589614,\n",
              "        18.09430652,  24.68432904,  18.09430652,  48.73821579,\n",
              "        79.52631579,  48.73821579,  62.51631579,  55.26468421,\n",
              "        48.73821579,  15.28487587,  28.53814338,  18.09430652,\n",
              "        21.21589614,  62.51631579,  21.21589614,  32.82015931,\n",
              "        28.53814338,  15.28487587,  48.73821579,  18.09430652,\n",
              "        21.21589614,  28.53814338,  21.21589614,  55.26468421,\n",
              "        55.26468421,  70.57368421,  55.26468421,  62.51631579,\n",
              "        42.86439421,  12.75638828,  24.68432904,  15.28487587,\n",
              "        24.68432904,  70.57368421,  24.68432904,  37.57795479,\n",
              "        24.68432904,  12.75638828,  42.86439421,  15.28487587,\n",
              "        24.68432904,  32.82015931,  24.68432904,  62.51631579,\n",
              "        48.73821579,  79.52631579,  48.73821579,  70.57368421,\n",
              "        37.57795479,  10.48074946,  21.21589614,  12.75638828,\n",
              "        28.53814338,  79.52631579,  28.53814338,  42.86439421,\n",
              "        21.21589614,  10.48074946,  37.57795479,  12.75638828,\n",
              "        21.21589614,  28.53814338,  21.21589614,  55.26468421,\n",
              "        42.86439421,  89.47368421,  42.86439421,  62.51631579,\n",
              "        70.57368421,  24.68432904,  42.86439421,  28.53814338,\n",
              "        12.75638828,  42.86439421,  12.75638828,  21.21589614,\n",
              "        42.86439421,  24.68432904,  70.57368421,  28.53814338,\n",
              "        18.09430652,  24.68432904,  18.09430652,  48.73821579,\n",
              "        79.52631579,  48.73821579,  79.52631579,  55.26468421,\n",
              "        62.51631579,  21.21589614,  37.57795479,  24.68432904,\n",
              "        15.28487587,  48.73821579,  15.28487587,  24.68432904,\n",
              "        37.57795479,  21.21589614,  62.51631579,  24.68432904,\n",
              "        21.21589614,  28.53814338,  21.21589614,  55.26468421,\n",
              "        70.57368421,  55.26468421,  70.57368421,  62.51631579,\n",
              "        55.26468421,  18.09430652,  32.82015931,  21.21589614,\n",
              "        18.09430652,  55.26468421,  18.09430652,  28.53814338,\n",
              "        32.82015931,  18.09430652,  55.26468421,  21.21589614,\n",
              "        24.68432904,  32.82015931,  24.68432904,  62.51631579,\n",
              "        62.51631579,  62.51631579,  62.51631579,  70.57368421,\n",
              "        48.73821579,  15.28487587,  28.53814338,  18.09430652,\n",
              "        21.21589614,  62.51631579,  21.21589614,  32.82015931,\n",
              "        28.53814338,  15.28487587,  48.73821579,  18.09430652,\n",
              "        28.53814338,  37.57795479,  28.53814338,  70.57368421,\n",
              "        55.26468421,  70.57368421,  55.26468421,  79.52631579,\n",
              "        42.86439421,  12.75638828,  24.68432904,  15.28487587,\n",
              "        24.68432904,  70.57368421,  24.68432904,  37.57795479,\n",
              "        24.68432904,  12.75638828,  42.86439421,  15.28487587,\n",
              "        24.68432904,  32.82015931,  24.68432904,  62.51631579,\n",
              "        48.73821579,  79.52631579,  48.73821579,  70.57368421,\n",
              "        62.51631579,  21.21589614,  37.57795479,  24.68432904,\n",
              "        10.48074946,  37.57795479,  10.48074946,  18.09430652,\n",
              "        48.73821579,  28.53814338,  79.52631579,  32.82015931,\n",
              "        15.28487587,  21.21589614,  15.28487587,  42.86439421,\n",
              "        70.57368421,  42.86439421,  89.47368421,  48.73821579,\n",
              "        55.26468421,  18.09430652,  32.82015931,  21.21589614,\n",
              "        12.75638828,  42.86439421,  12.75638828,  21.21589614,\n",
              "        32.82015931,  18.09430652,  55.26468421,  21.21589614,\n",
              "        18.09430652,  24.68432904,  18.09430652,  48.73821579,\n",
              "        62.51631579,  48.73821579,  62.51631579,  55.26468421,\n",
              "        48.73821579,  15.28487587,  28.53814338,  18.09430652,\n",
              "        15.28487587,  48.73821579,  15.28487587,  24.68432904,\n",
              "        28.53814338,  15.28487587,  48.73821579,  18.09430652,\n",
              "        21.21589614,  28.53814338,  21.21589614,  55.26468421,\n",
              "        55.26468421,  55.26468421,  55.26468421,  62.51631579,\n",
              "        42.86439421,  12.75638828,  24.68432904,  15.28487587,\n",
              "        18.09430652,  55.26468421,  18.09430652,  28.53814338,\n",
              "        24.68432904,  12.75638828,  42.86439421,  15.28487587,\n",
              "        32.82015931,  42.86439421,  32.82015931,  79.52631579,\n",
              "        48.73821579,  62.51631579,  48.73821579,  89.47368421,\n",
              "        37.57795479,  10.48074946,  21.21589614,  12.75638828,\n",
              "        21.21589614,  62.51631579,  21.21589614,  32.82015931,\n",
              "        21.21589614,  10.48074946,  37.57795479,  12.75638828,\n",
              "        28.53814338,  37.57795479,  28.53814338,  70.57368421,\n",
              "        42.86439421,  70.57368421,  42.86439421,  79.52631579,\n",
              "        55.26468421,  18.09430652,  32.82015931,  21.21589614,\n",
              "         8.43267451,  32.82015931,   8.43267451,  15.28487587,\n",
              "        55.26468421,  32.82015931,  89.47368421,  37.57795479,\n",
              "        12.75638828,  18.09430652,  12.75638828,  37.57795479,\n",
              "        62.51631579,  37.57795479, 100.52631579,  42.86439421,\n",
              "        48.73821579,  15.28487587,  28.53814338,  18.09430652,\n",
              "        10.48074946,  37.57795479,  10.48074946,  18.09430652,\n",
              "        28.53814338,  15.28487587,  48.73821579,  18.09430652,\n",
              "        15.28487587,  21.21589614,  15.28487587,  42.86439421,\n",
              "        55.26468421,  42.86439421,  55.26468421,  48.73821579,\n",
              "        42.86439421,  12.75638828,  24.68432904,  15.28487587,\n",
              "        12.75638828,  42.86439421,  12.75638828,  21.21589614,\n",
              "        24.68432904,  12.75638828,  42.86439421,  15.28487587,\n",
              "        18.09430652,  24.68432904,  18.09430652,  48.73821579,\n",
              "        48.73821579,  48.73821579,  48.73821579,  55.26468421,\n",
              "        37.57795479,  10.48074946,  21.21589614,  12.75638828,\n",
              "        15.28487587,  48.73821579,  15.28487587,  24.68432904,\n",
              "        21.21589614,  10.48074946,  37.57795479,  12.75638828,\n",
              "        37.57795479,  48.73821579,  37.57795479,  89.47368421,\n",
              "        42.86439421,  55.26468421,  42.86439421, 100.52631579,\n",
              "        32.82015931,   8.43267451,  18.09430652,  10.48074946,\n",
              "        18.09430652,  55.26468421,  18.09430652,  28.53814338,\n",
              "        18.09430652,   8.43267451,  32.82015931,  10.48074946,\n",
              "        32.82015931,  42.86439421,  32.82015931,  79.52631579,\n",
              "        37.57795479,  62.51631579,  37.57795479,  89.47368421])"
            ]
          },
          "metadata": {},
          "execution_count": 237
        }
      ]
    },
    {
      "cell_type": "code",
      "source": [
        "v_values_optimal2 = policy_evaluation(env, optimal_policy2)"
      ],
      "metadata": {
        "colab": {
          "base_uri": "https://localhost:8080/"
        },
        "id": "D5YmLJd5L_P2",
        "outputId": "39a1dd6c-3525-4b9f-8dc0-ef9e50e56da1"
      },
      "execution_count": 238,
      "outputs": [
        {
          "output_type": "stream",
          "name": "stdout",
          "text": [
            "Converged at 116-th iteration.\n"
          ]
        }
      ]
    },
    {
      "cell_type": "code",
      "source": [
        "play(env, optimal_policy2, True)"
      ],
      "metadata": {
        "colab": {
          "base_uri": "https://localhost:8080/"
        },
        "outputId": "b42ff8d5-37ae-4f31-8f8c-b8fbeff65ffb",
        "id": "q3wifMRZMb7w"
      },
      "execution_count": 239,
      "outputs": [
        {
          "output_type": "stream",
          "name": "stdout",
          "text": [
            "+---------+\n",
            "|\u001b[35m\u001b[34;1m\u001b[43mR\u001b[0m\u001b[0m\u001b[0m: | : :G|\n",
            "| : | : : |\n",
            "| : : : : |\n",
            "| | : | : |\n",
            "|Y| : |B: |\n",
            "+---------+\n",
            "  (Dropoff)\n",
            "\n"
          ]
        },
        {
          "output_type": "execute_result",
          "data": {
            "text/plain": [
              "(11, 10)"
            ]
          },
          "metadata": {},
          "execution_count": 239
        }
      ]
    },
    {
      "cell_type": "code",
      "metadata": {
        "colab": {
          "base_uri": "https://localhost:8080/"
        },
        "outputId": "e4d102d2-958a-4a7b-d6ce-db8e2789bf1a",
        "id": "BAJIKVK_Mb7x"
      },
      "source": [
        "play_multiple_times(env, optimal_policy2, 1000)"
      ],
      "execution_count": 240,
      "outputs": [
        {
          "output_type": "stream",
          "name": "stdout",
          "text": [
            "Number of successes: 1000/1000\n",
            "Average number of steps: 13.007\n"
          ]
        }
      ]
    },
    {
      "cell_type": "markdown",
      "source": [
        "# **Nhận xét**"
      ],
      "metadata": {
        "id": "wKGpZxfFT-vT"
      }
    },
    {
      "cell_type": "markdown",
      "source": [
        "**- FrozenLake-v1:**\n",
        "\n",
        "value_iteration: 0.12s (iteration) + 0.00s (extraction) = 0.12s    \n",
        "\n",
        "policy_iteration: 0.08s\n",
        "\n",
        "**- FrozenLake8x8-v1:**\n",
        "\n",
        "value_iteration: 0.71s + 0.01s = 0.72s    \n",
        "\n",
        "policy_iteration: 0.64s\n",
        "\n",
        "**- Taxi-v3:**\n",
        "\n",
        "value_iteration: 6.53s + 0.06s = 6.59s    \n",
        "\n",
        "policy_iteration: 8.29s\n",
        "\n",
        "**TB value_iteration:** 2.48s\n",
        "\n",
        "**TB policy_iteration:** 3.00s\n",
        "\n",
        "Theo thời gian chạy trung bình, value_iteration cho ra kết quả nhanh hơn"
      ],
      "metadata": {
        "id": "1revmTO1UKAl"
      }
    }
  ]
}